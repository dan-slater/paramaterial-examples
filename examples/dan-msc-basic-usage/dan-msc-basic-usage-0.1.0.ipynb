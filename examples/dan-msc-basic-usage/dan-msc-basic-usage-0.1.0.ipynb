{
 "cells": [
  {
   "cell_type": "markdown",
   "source": [
    "# Paramaterial Usage Example"
   ],
   "metadata": {
    "collapsed": false
   }
  },
  {
   "cell_type": "markdown",
   "source": [
    "Importing the paramaterial module"
   ],
   "metadata": {
    "collapsed": false
   }
  },
  {
   "cell_type": "code",
   "execution_count": null,
   "metadata": {},
   "outputs": [],
   "source": [
    "import pandas as pd\n",
    "# import paramaterial as a module\n",
    "import paramaterial as pam\n",
    "\n",
    "# check the version of paramaterial\n",
    "print(pam.__version__)"
   ]
  },
  {
   "cell_type": "markdown",
   "source": [
    "Load the raw data and metadata into a DataSet object"
   ],
   "metadata": {
    "collapsed": false
   }
  },
  {
   "cell_type": "code",
   "execution_count": null,
   "outputs": [],
   "source": [
    "# load the metadata spreadsheet and data files into a DataSet object\n",
    "prepared_ds = pam.DataSet('info/01 prepared info.xlsx', 'data/01 prepared data')\n",
    "\n",
    "# check the formatting of the loaded data and metadata\n",
    "pam.check_formatting(prepared_ds)"
   ],
   "metadata": {
    "collapsed": false
   }
  },
  {
   "cell_type": "markdown",
   "source": [
    "Sort and Get the metadata as a pandas DataFrame"
   ],
   "metadata": {
    "collapsed": false
   }
  },
  {
   "cell_type": "code",
   "execution_count": null,
   "outputs": [],
   "source": [
    "# sort the dataitems in the dataset\n",
    "prepared_ds = prepared_ds.sort_by(['temperature', 'lot'])\n",
    "\n",
    "# get the metadata as a table\n",
    "# prepared_ds.info_table"
   ],
   "metadata": {
    "collapsed": false
   }
  },
  {
   "cell_type": "markdown",
   "source": [
    "Use the subset method to get a subset of the data"
   ],
   "metadata": {
    "collapsed": false
   }
  },
  {
   "cell_type": "code",
   "execution_count": null,
   "outputs": [],
   "source": [
    "# get a subset of only the tensile tests\n",
    "prepared_ds = prepared_ds.subset({'test_type': ['T']})"
   ],
   "metadata": {
    "collapsed": false
   }
  },
  {
   "cell_type": "markdown",
   "source": [
    "Make an experimental matrix showing the distribution of the data"
   ],
   "metadata": {
    "collapsed": false
   }
  },
  {
   "cell_type": "code",
   "execution_count": null,
   "metadata": {},
   "outputs": [],
   "source": [
    "import matplotlib as mpl\n",
    "cmap_green = mpl.colors.LinearSegmentedColormap.from_list(\"\", [\"white\", (0.2124, 0.3495, 0.1692)])\n",
    "\n",
    "# make a heatmap showing the distribution across lot and temperature\n",
    "pam.experimental_matrix(info_table=prepared_ds.info_table, index='temperature', vmax=7,\n",
    "                        columns='lot', as_heatmap=True, cmap=cmap_green);"
   ]
  },
  {
   "cell_type": "markdown",
   "source": [
    "Use a Styler object to format the plotting to the entire dataset"
   ],
   "metadata": {
    "collapsed": false
   }
  },
  {
   "cell_type": "code",
   "execution_count": null,
   "outputs": [],
   "source": [
    "# instantiate a Styler object and format to match the prepared data\n",
    "styler = pam.Styler(color_by='temperature', color_by_label='(°C)', cmap='plasma')\n",
    "styler.style_to(prepared_ds)\n",
    "\n",
    "# keys labels for stress-strain data plotting\n",
    "labels_dict = dict(x='Strain', y='Stress_MPa', ylabel='Stress (MPa)')"
   ],
   "metadata": {
    "collapsed": false
   }
  },
  {
   "cell_type": "markdown",
   "source": [
    "Setup the dataset plot for a single plot of all the data"
   ],
   "metadata": {
    "collapsed": false
   }
  },
  {
   "cell_type": "code",
   "execution_count": null,
   "outputs": [],
   "source": [
    "# define a function to plot the dataset\n",
    "def ds_plot(ds, **kwargs):\n",
    "    \"\"\"Takes in a DataSet and extra plotting kwargs, returns a matplotlib Axes object.\"\"\"\n",
    "    return pam.dataset_plot(ds=ds, styler=styler, **labels_dict, **kwargs)\n",
    "\n",
    "\n",
    "# plot the dataset\n",
    "# ds_plot(prepared_ds);"
   ],
   "metadata": {
    "collapsed": false
   }
  },
  {
   "cell_type": "markdown",
   "source": [
    "Setup the dataset plot for a grid of plots of the data."
   ],
   "metadata": {
    "collapsed": false
   }
  },
  {
   "cell_type": "code",
   "execution_count": null,
   "outputs": [],
   "source": [
    "# define a function to plot the dataset as a grid of plots\n",
    "def ds_subplots(ds, **kwargs):\n",
    "    \"\"\"Takes in a DataSet and extra plotting kwargs, returns an array of matplotlib Axes objects.\"\"\"\n",
    "    return pam.dataset_subplots(\n",
    "        ds=ds, shape=(6, 5), styler=styler,\n",
    "        rows_by='temperature', row_vals=[[20], [100], [150], [200], [250], [300]],\n",
    "        cols_by='lot', col_vals=[['A'], ['B'], ['C'], ['D'], ['E']],\n",
    "        col_titles=[f'Lot {lot}' for lot in 'ABCDE'], **labels_dict, **kwargs)\n",
    "\n",
    "\n",
    "# plot the dataset as a grid of plots\n",
    "# ds_subplots(prepared_ds);"
   ],
   "metadata": {
    "collapsed": false
   }
  },
  {
   "cell_type": "markdown",
   "source": [
    "## Processing\n",
    "Find UTS and fracture point."
   ],
   "metadata": {
    "collapsed": false
   }
  },
  {
   "cell_type": "code",
   "execution_count": null,
   "outputs": [],
   "source": [
    "# determine the ultimate tensile strength for each test\n",
    "prepared_ds = pam.find_UTS(ds=prepared_ds, strain_key='Strain',\n",
    "                           stress_key='Stress_MPa')\n",
    "\n",
    "# determine the fracture point for each test\n",
    "prepared_ds = pam.find_fracture_point(ds=prepared_ds, strain_key='Strain',\n",
    "                                      stress_key='Stress_MPa')"
   ],
   "metadata": {
    "collapsed": false
   }
  },
  {
   "cell_type": "markdown",
   "source": [
    "Trimming."
   ],
   "metadata": {
    "collapsed": false
   }
  },
  {
   "cell_type": "code",
   "execution_count": null,
   "outputs": [],
   "source": [
    "# define a function to trim the data to a small strain range\n",
    "def trim_to_small_strain(di):\n",
    "    \"\"\"Takes in a DataItem and returns a trimmed DataItem.\"\"\"\n",
    "    di.data = di.data[di.data['Strain'] < 0.01]\n",
    "    return di\n",
    "\n",
    "\n",
    "# apply the function to the dataset\n",
    "trimmed_ds = prepared_ds.apply(trim_to_small_strain)\n",
    "\n",
    "# plot the trimmed dataset\n",
    "# ds_plot(trimmed_ds);"
   ],
   "metadata": {
    "collapsed": false
   }
  },
  {
   "cell_type": "markdown",
   "source": [
    "Apply foot correction."
   ],
   "metadata": {
    "collapsed": false
   }
  },
  {
   "cell_type": "code",
   "execution_count": null,
   "outputs": [],
   "source": [
    "# determine the upper and lower proportional limits for each test\n",
    "trimmed_ds = pam.find_upl_and_lpl(ds=trimmed_ds, preload=36,\n",
    "                                  preload_key='Stress_MPa')\n",
    "\n",
    "# apply the foot correction to the dataset\n",
    "corrected_ds = pam.correct_foot(ds=trimmed_ds, LPL_key='LPL', UPL_key='UPL')\n",
    "\n",
    "# plot the corrected dataset\n",
    "# ds_plot(corrected_ds);"
   ],
   "metadata": {
    "collapsed": false
   }
  },
  {
   "cell_type": "markdown",
   "source": [
    "Make screening pdf for foot correction screening."
   ],
   "metadata": {
    "collapsed": false
   }
  },
  {
   "cell_type": "code",
   "execution_count": null,
   "outputs": [],
   "source": [
    "# define a function to plot a single test for foot correction screening\n",
    "def foot_correction_screening_plot(di):\n",
    "    \"\"\"Takes in a DataItem and returns a matplotlib Axes object.\"\"\"\n",
    "    color = styler.color_dict[di.info['temperature']]\n",
    "    LPL = (di.info['UPL_0'], di.info['UPL_1'])\n",
    "    UPL = (di.info['LPL_0'], di.info['LPL_1'])\n",
    "    ax = ds_plot(corrected_ds.subset({'test_id': di.test_id}))\n",
    "    ax = ds_plot(trimmed_ds.subset({'test_id': di.test_id}), alpha=0.5, ax=ax)\n",
    "    ax.axline(UPL, slope=di.info['E'], c=color, ls='--', alpha=0.5)\n",
    "    ax.plot(*UPL, c=color, marker=4)\n",
    "    ax.plot(*LPL, c=color, marker=5)\n",
    "    return ax\n",
    "\n",
    "\n",
    "# make the screening pdf\n",
    "# pam.make_screening_pdf(corrected_ds, plot_func=foot_correction_screening_plot,\n",
    "#                        pdf_path='info/foot-correction screening.pdf')"
   ],
   "metadata": {
    "collapsed": false
   }
  },
  {
   "cell_type": "markdown",
   "source": [
    "Read screening pdf."
   ],
   "metadata": {
    "collapsed": false
   }
  },
  {
   "cell_type": "code",
   "execution_count": null,
   "outputs": [],
   "source": [
    "# read the annotated screening pdf fields to the dataset\n",
    "corrected_ds = pam.read_screening_pdf(ds=corrected_ds,\n",
    "                                      pdf_path='info/screening-marked.pdf')\n",
    "\n",
    "# get the metadata table of the rejected items\n",
    "# corrected_ds.info_table[corrected_ds.info_table['reject'] == 'True']"
   ],
   "metadata": {
    "collapsed": false
   }
  },
  {
   "cell_type": "markdown",
   "source": [
    "Remove the rejected items"
   ],
   "metadata": {
    "collapsed": false
   }
  },
  {
   "cell_type": "code",
   "execution_count": null,
   "outputs": [],
   "source": [
    "# remove the rejected tests from the dataset\n",
    "screened_ds = pam.remove_rejected_items(ds=corrected_ds, reject_key='reject')\n",
    "\n",
    "# plot the screened dataset\n",
    "ds_plot(screened_ds);"
   ],
   "metadata": {
    "collapsed": false
   }
  },
  {
   "cell_type": "markdown",
   "source": [
    "Algorithmically find the proof stresses."
   ],
   "metadata": {
    "collapsed": false
   }
  },
  {
   "cell_type": "code",
   "execution_count": null,
   "outputs": [],
   "source": [
    "# find the 0.2% proof stress for each test\n",
    "screened_ds = pam.find_proof_stress(ds=screened_ds, proof_strain=0.002, E_key='E',\n",
    "                                    strain_key='Strain', stress_key='Stress_MPa')"
   ],
   "metadata": {
    "collapsed": false
   }
  },
  {
   "cell_type": "markdown",
   "source": [
    "Write processed data."
   ],
   "metadata": {
    "collapsed": false
   }
  },
  {
   "cell_type": "code",
   "execution_count": null,
   "outputs": [],
   "source": [
    "# write the metadata table data files to the specified paths\n",
    "screened_ds.write_output('info/02 processed info.xlsx',\n",
    "                         'data/02 processed data')\n",
    "\n",
    "# load the processed dataset\n",
    "processed_ds = pam.DataSet('info/02 processed info.xlsx',\n",
    "                           'data/02 processed data')\n",
    "\n",
    "# plot the processed dataset as a grid of plots\n",
    "# ds_subplots(processed_ds);"
   ],
   "metadata": {
    "collapsed": false
   }
  },
  {
   "cell_type": "markdown",
   "source": [
    "## Data Aggregation"
   ],
   "metadata": {
    "collapsed": false
   }
  },
  {
   "cell_type": "markdown",
   "source": [
    "Generate representative curves."
   ],
   "metadata": {
    "collapsed": false
   }
  },
  {
   "cell_type": "code",
   "execution_count": null,
   "outputs": [],
   "source": [
    "# make representative curves for each temperature and test type\n",
    "pam.make_representative_data(\n",
    "    ds=processed_ds, info_path='info/03 repres info.xlsx',\n",
    "    data_dir='data/03 repres data', repres_col='Stress_MPa',\n",
    "    interp_by='Strain', interp_range='inner',\n",
    "    group_by_keys=['temperature', 'test_type'],\n",
    "    group_info_cols=['UTS_0', 'UTS_1', 'FP_0', 'E',\n",
    "                     'PS_0.002_0', 'PS_0.002_1', 'UPL_1'])\n",
    "\n",
    "# load the representative dataset\n",
    "repres_ds = pam.DataSet('info/03 repres info.xlsx',\n",
    "                        'data/03 repres data',\n",
    "                        test_id_key='repres_id')\n",
    "\n",
    "# plot representative curves with standard deviation bands\n",
    "ds_plot(repres_ds,\n",
    "        fill_between=('down_std_Stress_MPa', 'up_std_Stress_MPa'));\n",
    "\n",
    "# get the metadata table of the representative dataset\n",
    "# repres_ds.info_table"
   ],
   "metadata": {
    "collapsed": false
   }
  },
  {
   "cell_type": "markdown",
   "source": [
    "Fit models."
   ],
   "metadata": {
    "collapsed": false
   }
  },
  {
   "cell_type": "code",
   "execution_count": null,
   "outputs": [],
   "source": [
    "# get the Ramberg-Osgood model function\n",
    "ramberg_func = pam.models.ramberg\n",
    "\n",
    "# set up the modelset, variables are known, params are unknown\n",
    "ramberg_ms = pam.ModelSet(\n",
    "    model_func=pam.models.ramberg,\n",
    "    var_names=['E', 'UPL_1'],\n",
    "    param_names=['H', 'n'],\n",
    "    bounds=[(0., 1000.), (0.01, 0.8)]\n",
    ")\n",
    "\n",
    "# fit the modelset to the representative dataset\n",
    "ramberg_ms.fit_to(repres_ds, x_key='Strain', y_key='Stress_MPa')\n",
    "\n",
    "# get a table of the fitted parameters\n",
    "# ramberg_ms.params_table"
   ],
   "metadata": {
    "collapsed": false
   }
  },
  {
   "cell_type": "markdown",
   "source": [
    "Predict data from fitted models."
   ],
   "metadata": {
    "collapsed": false
   }
  },
  {
   "cell_type": "code",
   "execution_count": null,
   "outputs": [],
   "source": [
    "# Predict a dataset from the modelset\n",
    "ramberg_ds = ramberg_ms.predict()\n",
    "\n",
    "# Plot the fitted curves above the representative curves\n",
    "ax = ds_plot(repres_ds, alpha=0.5)\n",
    "ds_plot(ramberg_ds, ls='--', ax=ax);"
   ],
   "metadata": {
    "collapsed": false
   }
  },
  {
   "cell_type": "markdown",
   "source": [
    "## Quality Control\n"
   ],
   "metadata": {
    "collapsed": false
   }
  },
  {
   "cell_type": "markdown",
   "source": [
    "Check for outliers."
   ],
   "metadata": {
    "collapsed": false
   }
  },
  {
   "cell_type": "code",
   "execution_count": null,
   "outputs": [],
   "source": [
    "# Plot the processed curves on a grid of subplots\n",
    "axs = ds_subplots(processed_ds)\n",
    "\n",
    "# Plot the representative curve for a row on all the plots in that row\n",
    "for i, temp in enumerate(processed_ds.info_table['temperature'].unique()):\n",
    "    for j in range(axs.shape[1]):\n",
    "        ax = axs[i, j]\n",
    "        ds_plot(ds=repres_ds.subset({'temperature': temp}),\n",
    "                ax=axs[i, j], plot_legend=False,\n",
    "                fill_between=('up_std_Stress_MPa', 'down_std_Stress_MPa'))"
   ],
   "metadata": {
    "collapsed": false
   }
  },
  {
   "cell_type": "markdown",
   "source": [
    "Read placeholders from the test report template."
   ],
   "metadata": {
    "collapsed": false
   }
  },
  {
   "cell_type": "code",
   "execution_count": null,
   "outputs": [],
   "source": [
    "receipts = pam.TestReceipts(template_path=r'info/receipts_template.tex')\n",
    "receipts.parse_placeholders(as_dict=True)"
   ],
   "metadata": {
    "collapsed": false
   }
  },
  {
   "cell_type": "markdown",
   "source": [
    "Setup functions for the test reports."
   ],
   "metadata": {
    "collapsed": false
   }
  },
  {
   "cell_type": "code",
   "execution_count": null,
   "outputs": [],
   "source": [
    "import matplotlib.lines as mlines\n",
    "import matplotlib.pyplot as plt\n",
    "\n",
    "def receipts_raw_plot(di):\n",
    "    test_id = di.test_id\n",
    "    color = styler.color_dict[di.info['temperature']]\n",
    "    UTS = (di.info['UTS_0'], di.info['UTS_1'])\n",
    "    ax = ds_plot(prepared_ds.subset({'test_id': test_id}), title=f'Raw Data')\n",
    "    ax.plot(*UTS, color=color, marker='s', label='UTS')\n",
    "    plot_name = f'{test_id} raw.pdf'\n",
    "    handles = [mlines.Line2D([], [], color=color, marker='s', ls='None', label='UTS')]\n",
    "    ax.legend(handles=handles, loc='best')\n",
    "    plt.savefig(plot_name, bbox_inches='tight', dpi=150)\n",
    "    return plot_name\n",
    "\n",
    "\n",
    "def receipts_processed_plot(di):\n",
    "    test_id = di.test_id\n",
    "    color = styler.color_dict[di.info['temperature']]\n",
    "    UPL = (di.info['UPL_0'], di.info['UPL_1'])\n",
    "    LPL = (di.info['LPL_0'], di.info['LPL_1'])\n",
    "    PS_0_002 = (di.info['PS_0.002_0'], di.info['PS_0.002_1'])\n",
    "    ax = ds_plot(trimmed_ds.subset({'test_id': di.test_id}), alpha=0.5)\n",
    "    ds_plot(corrected_ds.subset({'test_id': di.test_id}), ax=ax, title='Processed Data')\n",
    "    ax.axline(UPL, slope=di.info['E'], c=color, ls='--', alpha=0.5)\n",
    "    ax.axline(PS_0_002, slope=di.info['E'], c=color, ls='--', alpha=0.5)\n",
    "    ax.plot(*UPL, c=color, marker=4)\n",
    "    ax.plot(*LPL, c=color, marker=5)\n",
    "    ax.plot(*PS_0_002, c=color, marker='*')\n",
    "    handles = [mlines.Line2D([], [], color=color, marker=4, ls='None', label='UPL'),\n",
    "               mlines.Line2D([], [], color=color, marker=5, ls='None', label='LPL'),\n",
    "               mlines.Line2D([], [], color=color, marker='*', ls='None', label='PS_0.002')]\n",
    "    plot_name = f'{test_id} processed.pdf'\n",
    "    ax.legend(handles=handles, loc='best')\n",
    "    plt.savefig(plot_name, bbox_inches='tight', dpi=150)\n",
    "    return plot_name\n",
    "\n",
    "\n",
    "def receipts_table(di):\n",
    "    series = di.info\n",
    "    for key in ['UTS_1', 'UPL_1', 'LPL_1', 'PS_0.002_1', 'E']:\n",
    "        series[key] = round(series[key], 2)\n",
    "    for key in ['UTS_0', 'UPL_0', 'LPL_0', 'PS_0.002_0', 'FP_0']:\n",
    "        series[key] = round(series[key], 4)\n",
    "    # series = series.style.to_latex(escape=False, header=False)\n",
    "    # table_string = series.to_frame().style.format(escape='latex').to_latex()\n",
    "    table_string = series.to_frame().style.to_latex()\n",
    "    return table_string"
   ],
   "metadata": {
    "collapsed": false
   }
  },
  {
   "cell_type": "markdown",
   "source": [
    "Generate the test reports."
   ],
   "metadata": {
    "collapsed": false
   }
  },
  {
   "cell_type": "code",
   "execution_count": null,
   "outputs": [],
   "source": [
    "# Define a dictionary of functions for replacing the placeholders\n",
    "replace_dict = {'test_id': lambda di: di.test_id,\n",
    "                'plot_raw': receipts_raw_plot,\n",
    "                'plot_processed': receipts_processed_plot,\n",
    "                'table_info': receipts_table}\n",
    "\n",
    "# Generate the combined test receipts PDF\n",
    "receipts.generate_receipts(ds=processed_ds,\n",
    "                           receipts_path='info/test_receipts.pdf',\n",
    "                           replace_dict=replace_dict);"
   ],
   "metadata": {
    "collapsed": false,
    "is_executing": true
   }
  }
 ],
 "metadata": {
  "kernelspec": {
   "display_name": "Python 3 (ipykernel)",
   "language": "python",
   "name": "python3"
  },
  "language_info": {
   "codemirror_mode": {
    "name": "ipython",
    "version": 3
   },
   "file_extension": ".py",
   "mimetype": "text/x-python",
   "name": "python",
   "nbconvert_exporter": "python",
   "pygments_lexer": "ipython3",
   "version": "3.10.9"
  }
 },
 "nbformat": 4,
 "nbformat_minor": 1
}
