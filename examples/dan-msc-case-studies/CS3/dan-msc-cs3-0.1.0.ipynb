{
 "cells": [
  {
   "cell_type": "markdown",
   "metadata": {},
   "source": [
    "# CS3 Processing Report\n",
    "\n",
    "This example showcases the use of Paramaterial to process and analyse a set of uniaxial compression test data."
   ]
  },
  {
   "cell_type": "code",
   "execution_count": null,
   "metadata": {},
   "outputs": [],
   "source": [
    "import paramaterial as pam\n",
    "import numpy as np\n",
    "from matplotlib import pyplot as plt\n",
    "import matplotlib as mpl\n",
    "from paramaterial import DataSet, DataItem\n",
    "print(pam.__version__)\n",
    "print(np.__version__)\n",
    "print(mpl.__version__)"
   ]
  },
  {
   "cell_type": "markdown",
   "metadata": {},
   "source": [
    "## Data preparation"
   ]
  },
  {
   "cell_type": "code",
   "execution_count": null,
   "metadata": {},
   "outputs": [],
   "source": [
    "pam.check_column_headers('data/01 raw data')\n",
    "pam.check_for_duplicate_files('data/01 raw data')"
   ]
  },
  {
   "cell_type": "markdown",
   "metadata": {},
   "source": [
    "Load the data and info into a dataset object (ds is shorthand for dataset)."
   ]
  },
  {
   "cell_type": "code",
   "execution_count": null,
   "metadata": {},
   "outputs": [],
   "source": [
    "raw_ds = DataSet('info/01 raw info.xlsx', 'data/01 raw data').sort_by('temperature')"
   ]
  },
  {
   "cell_type": "markdown",
   "metadata": {},
   "source": [
    "### Make the experimental matrix\n",
    "We want to identify useful groupings and make visualisations."
   ]
  },
  {
   "cell_type": "markdown",
   "metadata": {},
   "source": [
    "The tests can be grouped by nominal rate, nominal temperature, and material. We will make the classic rate-temperature matrices - one for each material."
   ]
  },
  {
   "cell_type": "code",
   "execution_count": null,
   "metadata": {},
   "outputs": [],
   "source": [
    "cmap_gold = mpl.colors.LinearSegmentedColormap.from_list(\"\", [\"white\", (85/255, 49/255, 0)])\n",
    "mpl.rcParams['axes.facecolor'] = cmap_gold(0.1)"
   ]
  },
  {
   "cell_type": "code",
   "execution_count": null,
   "outputs": [],
   "source": [
    "fig, axs = plt.subplots(1, 3, figsize=(3, 2.3))\n",
    "heatmap_kwargs = dict(linewidths=2, cbar=False, annot=True, cmap=cmap_gold, vmax=9)\n",
    "\n",
    "pam.experimental_matrix(raw_ds.subset({'material': 'AC'}).info_table,\n",
    "                             index='temperature', columns='rate', as_heatmap=True,\n",
    "                             title='AC', xlabel='Rate (/s)', ylabel='Temperature (°C)',\n",
    "                             tick_params=dict(rotation=0), ax=axs[0], **heatmap_kwargs)\n",
    "\n",
    "pam.experimental_matrix(raw_ds.subset({'material': 'H560'}).info_table,\n",
    "                             index='temperature', columns='rate', as_heatmap=True,\n",
    "                             title='H560', xlabel='Rate (/s)', ylabel=' ',\n",
    "                             tick_params=dict(labelleft=False), ax=axs[1], **heatmap_kwargs)\n",
    "\n",
    "pam.experimental_matrix(raw_ds.subset({'material': 'H580'}).info_table,\n",
    "                             index='temperature', columns='rate', as_heatmap=True,\n",
    "                             title='H580', xlabel='Rate (/s)', ylabel=' ',\n",
    "                             tick_params=dict(labelleft=False), ax=axs[2], **heatmap_kwargs);"
   ],
   "metadata": {
    "collapsed": false
   }
  },
  {
   "cell_type": "markdown",
   "metadata": {},
   "source": [
    "### Setup data overview plot\n",
    "Now that we know how to group the data, we can set up a plotting function."
   ]
  },
  {
   "cell_type": "code",
   "execution_count": null,
   "metadata": {},
   "outputs": [],
   "source": [
    "styler = pam.plotting.Styler(color_by='temperature', color_by_label='(°C)', cmap='plasma').style_to(raw_ds)\n",
    "\n",
    "\n",
    "def ds_subplot(ds: DataSet, **kwargs):\n",
    "    return pam.plotting.dataset_subplots(\n",
    "        ds, shape=(2, 3), xlim=(-0.2, 1.2), figsize=(8, 3.5),\n",
    "        rows_by='rate', cols_by='material',\n",
    "        row_vals=[[1], [10]], col_vals=[['AC'], ['H560'], ['H580']],\n",
    "        col_titles=['AC', 'H560', 'H580'], row_titles=['1/s','10/s'],\n",
    "        styler=styler, subplot_legend=False, plot_legend=False,\n",
    "        **kwargs\n",
    "    )\n",
    "\n",
    "\n",
    "stress_strain_labels = dict(x='Strain', y='Stress(MPa)', xlabel='Strain (mm/mm)', ylabel='Stress (MPa)')"
   ]
  },
  {
   "cell_type": "markdown",
   "metadata": {},
   "source": [
    "Plot the raw data."
   ]
  },
  {
   "cell_type": "code",
   "execution_count": null,
   "metadata": {},
   "outputs": [],
   "source": [
    "ds_subplot(raw_ds, **stress_strain_labels);"
   ]
  },
  {
   "cell_type": "markdown",
   "metadata": {},
   "source": [
    "## Data processing"
   ]
  },
  {
   "cell_type": "markdown",
   "metadata": {},
   "source": [
    "### Trim data"
   ]
  },
  {
   "cell_type": "code",
   "execution_count": null,
   "metadata": {},
   "outputs": [],
   "source": [
    "def drop_columns(di: DataItem) -> DataItem:\n",
    "    di.data = di.data.drop(columns=['PowAngle(deg)', 'Power(W)', 'Pram', 'PTemp', 'Stroke(mm)', 'wedge(mm)'])\n",
    "    return di\n",
    "\n",
    "\n",
    "def trim_using_time_step(di: DataItem) -> DataItem:\n",
    "    t_diff = np.diff(di.data['Time(sec)'])\n",
    "    di.data['time diff'] = np.hstack([t_diff[0], t_diff])\n",
    "    di.data = di.data[di.data['time diff'] < 0.02][1:]\n",
    "    return di\n",
    "\n",
    "\n",
    "def remove_trailing_data(di: DataItem):\n",
    "    di.data = di.data.iloc[:di.data['Force(kN)'].idxmax()]\n",
    "    return di"
   ]
  },
  {
   "cell_type": "code",
   "execution_count": null,
   "metadata": {},
   "outputs": [],
   "source": [
    "trimmed_ds = raw_ds.apply(drop_columns).apply(trim_using_time_step).apply(remove_trailing_data)\n",
    "ds_subplot(trimmed_ds, **stress_strain_labels);"
   ]
  },
  {
   "cell_type": "markdown",
   "metadata": {},
   "source": [
    "### Find flow stresses\n",
    "Determine the stress, temperature for each test. Note that while nominal temperature is given, the actual test conditions are slightly different. The actual strain-rate does not differ significantly from the nominal rate for these tests."
   ]
  },
  {
   "cell_type": "code",
   "execution_count": null,
   "metadata": {},
   "outputs": [],
   "source": [
    "rates_ds = pam.calculate_strain_rate(trimmed_ds, time_key='Time(sec)')\n",
    "processed_ds = pam.find_flow_stress_values(rates_ds, flow_strain=0.3,\n",
    "                                           stress_key='Stress(MPa)', temperature_key='TC1(C)', rate_key='Strain_Rate')\n",
    "\n",
    "processed_ds.write_output('info/02 processed info.xlsx', 'data/02 processed data')"
   ]
  },
  {
   "cell_type": "markdown",
   "metadata": {},
   "source": [
    "### Make representative curves"
   ]
  },
  {
   "cell_type": "code",
   "execution_count": null,
   "metadata": {},
   "outputs": [],
   "source": [
    "pam.make_representative_data(processed_ds, 'info/03 repr trim info.xlsx', 'data/03 repr trim data',\n",
    "                             repres_col='Stress(MPa)', group_by_keys=['temperature', 'material', 'rate'],\n",
    "                             interp_by='Strain', group_info_cols=['flow_Stress(MPa)'])\n",
    "repr_ds = DataSet('info/03 repr trim info.xlsx', 'data/03 repr trim data', test_id_key='repres_id').sort_by('temperature')\n",
    "ds_subplot(repr_ds, x='Strain', y='Stress(MPa)', xlabel='Strain', ylabel='Stress (MPa)',\n",
    "           fill_between=('down_std_Stress(MPa)', 'up_std_Stress(MPa)'));"
   ]
  },
  {
   "cell_type": "markdown",
   "metadata": {},
   "source": [
    "### Zener-Holloman Model"
   ]
  },
  {
   "cell_type": "code",
   "execution_count": null,
   "outputs": [],
   "source": [
    "info_table = processed_ds.info_table\n",
    "info_table['Q_activation'] = 155000.\n",
    "info_table['flow_temp(K)'] = processed_ds.info_table['flow_TC1(C)'] + 273.15\n",
    "processed_ds.info_table = info_table"
   ],
   "metadata": {
    "collapsed": false
   }
  },
  {
   "cell_type": "code",
   "execution_count": null,
   "outputs": [],
   "source": [
    "\n",
    "analysis_ds = processed_ds.apply(pam.calculate_ZH_parameter, rate_key='flow_Strain_Rate',\n",
    "                                 temperature_key='flow_temp(K)').sort_by(['material', 'rate'])"
   ],
   "metadata": {
    "collapsed": false
   }
  },
  {
   "cell_type": "code",
   "execution_count": null,
   "outputs": [],
   "source": [
    "from matplotlib.colors import ListedColormap\n",
    "default_cmap = plt.cm.get_cmap('RdYlGn')\n",
    "colors = default_cmap(np.arange(default_cmap.N))\n",
    "colors[0] = (1, 1, 1, 1)\n",
    "custom_cmap = ListedColormap(colors)\n",
    "\n",
    "\n",
    "def conformance_matrix(_ds: DataSet, axs):\n",
    "    heatmap_kwargs = dict(linewidths=4, cbar=False, annot=True, fmt='.1f', cmap=custom_cmap, vmin=80, vmax=100)\n",
    "    pam.make_quality_matrix(_ds.subset({'material': 'AC'}).info_table, index='temperature', columns='rate',\n",
    "                            flow_stress_key='flow_Stress(MPa)', as_heatmap=True, title='AC',\n",
    "                            xlabel='Rate (/s)', ylabel='Temperature (°C)', tick_params=dict(rotation=0), ax=axs[0],\n",
    "                            **heatmap_kwargs)\n",
    "    pam.make_quality_matrix(_ds.subset({'material': 'H560'}).info_table, index='temperature', columns='rate',\n",
    "                            flow_stress_key='flow_Stress(MPa)', as_heatmap=True, title='H560',\n",
    "                            xlabel='Rate (/s)', ylabel=' ', tick_params=dict(labelleft=False), ax=axs[1],\n",
    "                            **heatmap_kwargs)\n",
    "    pam.make_quality_matrix(_ds.subset({'material': 'H580'}).info_table, index='temperature', columns='rate',\n",
    "                            flow_stress_key='flow_Stress(MPa)', as_heatmap=True, title='H580',\n",
    "                            xlabel='Rate (/s)', ylabel=' ', tick_params=dict(labelleft=False), ax=axs[2],\n",
    "                            **heatmap_kwargs)\n",
    "    return axs"
   ],
   "metadata": {
    "collapsed": false
   }
  },
  {
   "cell_type": "code",
   "execution_count": null,
   "outputs": [],
   "source": [
    "material_analysis_ds = pam.apply_ZH_regression(analysis_ds.copy(), flow_stress_key='flow_Stress(MPa)',\n",
    "                                               group_by='material')\n",
    "rate_analysis_ds = pam.apply_ZH_regression(analysis_ds, flow_stress_key='flow_Stress(MPa)', group_by='rate')"
   ],
   "metadata": {
    "collapsed": false
   }
  },
  {
   "cell_type": "code",
   "execution_count": null,
   "outputs": [],
   "source": [
    "fig, axs = plt.subplots(1, 1, figsize=(5, 4))\n",
    "mat_cmap = mpl.colors.LinearSegmentedColormap.from_list(\"\", mpl.cm.gnuplot(np.linspace(0, 1, 4))[:4])\n",
    "\n",
    "pam.plot_ZH_regression(material_analysis_ds, group_by='material', color_by='material', cmap=mat_cmap, marker_by='rate',\n",
    "                       flow_stress_key='flow_Stress(MPa)', rate_key='rate', temperature_key='flow_temp(K)', ax=axs,\n",
    "                       eq_hscale=0.1);"
   ],
   "metadata": {
    "collapsed": false
   }
  },
  {
   "cell_type": "code",
   "execution_count": null,
   "outputs": [],
   "source": [
    "fig, axs = plt.subplots(1, 3, figsize=(3.5, 4))\n",
    "conformance_matrix(material_analysis_ds, axs);"
   ],
   "metadata": {
    "collapsed": false
   }
  },
  {
   "cell_type": "code",
   "execution_count": null,
   "outputs": [],
   "source": [
    "fig, axs = plt.subplots(1, 1, figsize=(5, 4))\n",
    "ax = pam.plot_ZH_regression(rate_analysis_ds, group_by='rate', color_by='rate', cmap='tab10', marker_by='material',\n",
    "                            flow_stress_key='flow_Stress(MPa)', rate_key='rate', temperature_key='flow_temp(K)', ax=axs,\n",
    "                            eq_hscale=0.1)"
   ],
   "metadata": {
    "collapsed": false
   }
  },
  {
   "cell_type": "code",
   "execution_count": null,
   "outputs": [],
   "source": [
    "fig, axs = plt.subplots(1, 3, figsize=(3.5, 4))\n",
    "conformance_matrix(rate_analysis_ds, axs);"
   ],
   "metadata": {
    "collapsed": false
   }
  },
  {
   "cell_type": "markdown",
   "source": [
    "### Tables"
   ],
   "metadata": {
    "collapsed": false
   }
  },
  {
   "cell_type": "code",
   "execution_count": null,
   "outputs": [],
   "source": [
    "df = pam.make_representative_info(material_analysis_ds, group_by_keys=['material', 'rate', 'temperature'],\n",
    "                                  group_info_cols=['lnZ_fit_residual', 'lnZ', 'ZH_parameter', 'flow_TC1(C)',\n",
    "                                                   'flow_Stress(MPa)'])\n",
    "table = df[['material', 'rate', 'temperature', 'flow_Stress(MPa)', 'flow_TC1(C)', 'ZH_parameter', 'lnZ']].sort_values(['temperature', 'material'])"
   ],
   "metadata": {
    "collapsed": false
   }
  },
  {
   "cell_type": "code",
   "execution_count": null,
   "outputs": [],
   "source": [
    "table_s1 = table[table['rate'] == 1].drop(columns=['rate'])\n",
    "for col in ['flow_Stress(MPa)', 'flow_TC1(C)', 'lnZ']:\n",
    "    table_s1[col] = table_s1[col].apply(lambda x: f'{x:.3g}')\n",
    "table_s1.style.to_latex('info/s1_table.tex')"
   ],
   "metadata": {
    "collapsed": false
   }
  },
  {
   "cell_type": "code",
   "execution_count": null,
   "outputs": [],
   "source": [
    "table_s10 = table[table['rate'] == 10].drop(columns=['rate'])\n",
    "for col in ['flow_Stress(MPa)', 'flow_TC1(C)',  'lnZ']:\n",
    "    table_s10[col] = table_s10[col].apply(lambda x: f'{x:.3g}')\n",
    "table_s10.style.to_latex('info/s10_table.tex')"
   ],
   "metadata": {
    "collapsed": false
   }
  }
 ],
 "metadata": {
  "kernelspec": {
   "display_name": "Python 3 (ipykernel)",
   "language": "python",
   "name": "python3"
  },
  "language_info": {
   "codemirror_mode": {
    "name": "ipython",
    "version": 3
   },
   "file_extension": ".py",
   "mimetype": "text/x-python",
   "name": "python",
   "nbconvert_exporter": "python",
   "pygments_lexer": "ipython3",
   "version": "3.10.9"
  }
 },
 "nbformat": 4,
 "nbformat_minor": 1
}
