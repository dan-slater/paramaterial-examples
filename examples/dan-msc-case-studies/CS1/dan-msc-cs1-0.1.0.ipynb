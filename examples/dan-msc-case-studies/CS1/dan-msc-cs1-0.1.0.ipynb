{
 "cells": [
  {
   "cell_type": "markdown",
   "metadata": {},
   "source": [
    "# CS1 Dataset Report\n"
   ]
  },
  {
   "cell_type": "markdown",
   "metadata": {},
   "source": [
    "Import libraries, and print package versions."
   ]
  },
  {
   "cell_type": "code",
   "execution_count": null,
   "metadata": {},
   "outputs": [],
   "source": [
    "import paramaterial as pam\n",
    "from paramaterial import DataSet, DataItem, ModelSet\n",
    "from paramaterial.models import ramberg\n",
    "import os\n",
    "import numpy as np\n",
    "import pandas as pd\n",
    "import seaborn as sns\n",
    "import matplotlib as mpl\n",
    "import matplotlib.pyplot as plt\n",
    "\n",
    "print(pam.__version__)\n",
    "print(pd.__version__)\n",
    "print(sns.__version__)\n",
    "print(mpl.__version__)"
   ]
  },
  {
   "cell_type": "markdown",
   "metadata": {},
   "source": [
    "### Gather data and info"
   ]
  },
  {
   "cell_type": "markdown",
   "metadata": {},
   "source": [
    "Extract info from the filenames and make the info table."
   ]
  },
  {
   "cell_type": "code",
   "execution_count": null,
   "metadata": {},
   "outputs": [],
   "source": [
    "info_lists = [[filename] + filename.split('_')[:4] for filename in os.listdir('data/01 raw data')]\n",
    "info_table = pd.DataFrame(info_lists,\n",
    "                          columns=['old_filename', 'test_type', 'temperature', 'lot', 'number']\n",
    "                          ).sort_values(by='test_type', ascending=False)"
   ]
  },
  {
   "cell_type": "markdown",
   "metadata": {},
   "source": [
    "Add a unique test ID column."
   ]
  },
  {
   "cell_type": "code",
   "execution_count": null,
   "metadata": {},
   "outputs": [],
   "source": [
    "info_table['test_id'] = [f'test_ID_{i + 1:03d}' for i in range(len(info_table))]\n",
    "info_table = info_table.set_index('test_id').reset_index()  # move the test_id column to the far left"
   ]
  },
  {
   "cell_type": "markdown",
   "metadata": {},
   "source": [
    "Drop the PST tests. We are only going to be processing and analysing the uniaxial tests."
   ]
  },
  {
   "cell_type": "code",
   "execution_count": null,
   "metadata": {},
   "outputs": [],
   "source": [
    "info_table['test_type'] = info_table['test_type'].replace('T', 'UT')\n",
    "info_table['test_type'] = info_table['test_type'].replace('P', 'PST')\n",
    "info_table = info_table[info_table['test_type'] != 'PST']\n",
    "info_table = info_table[~info_table['lot'].isin(list('FGHI'))]"
   ]
  },
  {
   "cell_type": "markdown",
   "metadata": {},
   "source": [
    "Add the information from the paper, and convert the temperatures to numbers."
   ]
  },
  {
   "cell_type": "code",
   "execution_count": null,
   "metadata": {},
   "outputs": [],
   "source": [
    "info_table['rate'] = 8.66e-4  # units (/s) and all tests performed at same rate\n",
    "info_table['A_0_(mm)'] = np.where(info_table['test_type'] == 'UT', 40.32, 20.16)\n",
    "info_table['h_0_(mm)'] = 3.175\n",
    "info_table['temperature'] = pd.to_numeric(info_table['temperature'])"
   ]
  },
  {
   "cell_type": "markdown",
   "metadata": {},
   "source": [
    "### Format the data files.\n",
    "In this example, the files are already in .csv format. We just check that the column headers are the same and that there are no duplicates, then rename the files by test id."
   ]
  },
  {
   "cell_type": "markdown",
   "metadata": {},
   "source": [
    "Check column headers, uniqueness."
   ]
  },
  {
   "cell_type": "code",
   "execution_count": null,
   "metadata": {},
   "outputs": [],
   "source": [
    "pam.check_column_headers('data/01 raw data')\n",
    "pam.check_for_duplicate_files('data/01 raw data')"
   ]
  },
  {
   "cell_type": "markdown",
   "metadata": {},
   "source": [
    "Write the prepared data and rename the files by test id. Also write the prepared info table."
   ]
  },
  {
   "cell_type": "code",
   "execution_count": null,
   "metadata": {},
   "outputs": [],
   "source": [
    "pam.copy_data_and_rename_by_test_id(data_in='data/01 raw data', data_out='data/01 prepared data',\n",
    "                                    info_table=info_table)\n",
    "info_table.to_excel('info/01 prepared info.xlsx', index=False)"
   ]
  },
  {
   "cell_type": "markdown",
   "metadata": {},
   "source": [
    "### Make the experimental matrix\n",
    "We want to identify useful groupings and make visualisations. The tests can be grouped by lot and temperature, with up to 3 repeated tests."
   ]
  },
  {
   "cell_type": "code",
   "execution_count": null,
   "metadata": {},
   "outputs": [],
   "source": [
    "gold_cmap = mpl.colors.LinearSegmentedColormap.from_list(\"\", [\"white\", (85 / 255, 49 / 255, 0)])\n",
    "mpl.rcParams[\"axes.facecolor\"] = gold_cmap(0.1)"
   ]
  },
  {
   "cell_type": "code",
   "execution_count": null,
   "outputs": [],
   "source": [
    "plt.figure(figsize=(2, 2))\n",
    "pam.experimental_matrix(info_table, index='temperature', columns='lot', as_heatmap=True, cmap=gold_cmap, xlabel='Lot',\n",
    "                        ylabel='Temperature (°C)', vmax=6);"
   ],
   "metadata": {
    "collapsed": false
   }
  },
  {
   "cell_type": "markdown",
   "source": [
    "### Visualise the prepared data.\n",
    "\n",
    "We could colour by lot or by temperature. Colouring by lot is useful to observe variation, colouring by temperature is useful to observe temperature variation."
   ],
   "metadata": {
    "collapsed": false
   }
  },
  {
   "cell_type": "code",
   "execution_count": null,
   "outputs": [],
   "source": [
    "def make_strain_percent(di):\n",
    "    di.data['Strain'] = di.data['Strain'] * 100\n",
    "    return di\n",
    "\n",
    "\n",
    "prepared_ds = DataSet('info/01 prepared info.xlsx', 'data/01 prepared data').sort_by(['temperature', 'lot']).apply(\n",
    "    make_strain_percent)"
   ],
   "metadata": {
    "collapsed": false
   }
  },
  {
   "cell_type": "code",
   "execution_count": null,
   "outputs": [],
   "source": [
    "lot_styler = pam.Styler(color_by='lot', color_by_label='Lot', cmap='inferno').style_to(prepared_ds)\n",
    "\n",
    "\n",
    "def ds_subplots(ds: DataSet, **kwargs):\n",
    "    temperatures = sorted(prepared_ds.info_table['temperature'].unique())\n",
    "    return pam.dataset_subplots(\n",
    "        ds=ds, x='Strain', y='Stress_MPa', xlabel='Strain (%)', ylabel='Stress (MPa)',\n",
    "        styler=lot_styler, plot_legend=False, figsize=(12, 2), shape=(1, 6), ylim=(-25., 350.),\n",
    "        wspace=0.1, rows_by='test_type', cols_by='temperature', row_vals=[['UT']],\n",
    "        col_vals=[[T] for T in temperatures], col_titles=[f'{T}°C' for T in temperatures],\n",
    "        **kwargs)\n",
    "\n",
    "\n",
    "ds_subplots(prepared_ds);"
   ],
   "metadata": {
    "collapsed": false
   }
  },
  {
   "cell_type": "markdown",
   "source": [
    "### Find UTS and Failure"
   ],
   "metadata": {
    "collapsed": false
   }
  },
  {
   "cell_type": "code",
   "execution_count": null,
   "outputs": [],
   "source": [
    "def find_uts_and_failure(di: DataItem):\n",
    "    di.info['UTS_1'] = di.data['Stress_MPa'].max()\n",
    "    di.info['UTS_0'] = di.data['Strain'][di.data['Stress_MPa'].idxmax()]\n",
    "    di.info['FP_0'] = di.data['Strain'].max()\n",
    "    return di\n",
    "\n",
    "\n",
    "prepared_ds = prepared_ds.apply(find_uts_and_failure)"
   ],
   "metadata": {
    "collapsed": false
   }
  },
  {
   "cell_type": "markdown",
   "source": [
    "### Trimming"
   ],
   "metadata": {
    "collapsed": false
   }
  },
  {
   "cell_type": "code",
   "execution_count": null,
   "outputs": [],
   "source": [
    "def trim_to_small_strain(di: DataItem):\n",
    "    di.data = di.data[di.data['Strain'] < 1]\n",
    "    return di\n",
    "\n",
    "\n",
    "trimmed_ds = prepared_ds.apply(trim_to_small_strain)"
   ],
   "metadata": {
    "collapsed": false
   }
  },
  {
   "cell_type": "markdown",
   "source": [
    "### Foot Correction"
   ],
   "metadata": {
    "collapsed": false
   }
  },
  {
   "cell_type": "code",
   "execution_count": null,
   "outputs": [],
   "source": [
    "corrected_ds = pam.find_upl_and_lpl(trimmed_ds, preload=36, preload_key='Stress_MPa')\n",
    "corrected_ds = pam.correct_foot(corrected_ds)"
   ],
   "metadata": {
    "collapsed": false
   }
  },
  {
   "cell_type": "markdown",
   "source": [
    "### Foot correction screening"
   ],
   "metadata": {
    "collapsed": false
   }
  },
  {
   "cell_type": "markdown",
   "source": [
    "Make screening pdf."
   ],
   "metadata": {
    "collapsed": false
   }
  },
  {
   "cell_type": "code",
   "execution_count": null,
   "outputs": [],
   "source": [
    "temp_styler = pam.Styler(color_by='temperature', color_by_label='(°C)').style_to(prepared_ds)\n",
    "\n",
    "\n",
    "def ds_plot(ds: DataSet, **kwargs):\n",
    "    return pam.dataset_plot(ds, x='Strain', y='Stress_MPa', xlabel='Strain (%)', ylabel='Stress (MPa)',\n",
    "                            styler=temp_styler, **kwargs)\n",
    "\n",
    "\n",
    "def foot_correction_screening_plot(di):\n",
    "    test_id = di.test_id\n",
    "    temp = di.info['temperature']\n",
    "    color = temp_styler.color_dict[temp]\n",
    "    UPL = (di.info['UPL_0'], di.info['UPL_1'])\n",
    "    LPL = (di.info['LPL_0'], di.info['LPL_1'])\n",
    "    _ax = ds_plot(corrected_ds.subset({'test_id': [test_id]}))\n",
    "    _ax = ds_plot(trimmed_ds.subset({'test_id': [test_id]}), alpha=0.5, ax=_ax)\n",
    "    _ax.axline(UPL, slope=di.info['E'], c=color, ls='--', alpha=0.5, zorder=500 + temp)\n",
    "    _ax.plot(*UPL, c='k', mfc=color, marker=4, alpha=0.8, markersize=6, zorder=1000 + temp)\n",
    "    _ax.plot(*LPL, c='k', mfc=color, marker=5, alpha=0.8, markersize=6, zorder=1000 + temp)\n",
    "\n",
    "\n",
    "foot_correction_screening_plot(corrected_ds[3])\n",
    "pam.make_screening_pdf(corrected_ds, foot_correction_screening_plot,\n",
    "                       'info/foot correction screening.pdf');"
   ],
   "metadata": {
    "collapsed": false
   }
  },
  {
   "cell_type": "markdown",
   "source": [
    "Reject flagged tests."
   ],
   "metadata": {
    "collapsed": false
   }
  },
  {
   "cell_type": "code",
   "execution_count": null,
   "outputs": [],
   "source": [
    "rejected_ds = pam.read_screening_pdf(corrected_ds, 'info/foot correction screening marked.pdf')\n",
    "rejected_items = rejected_ds.info_table[rejected_ds.info_table['reject'] == 'True']\n",
    "rejected_items[['test_id', 'temperature', 'lot', 'number', 'reject', 'comment']]"
   ],
   "metadata": {
    "collapsed": false
   }
  },
  {
   "cell_type": "code",
   "execution_count": null,
   "outputs": [],
   "source": [
    "screened_ds = pam.remove_rejected_items(rejected_ds)"
   ],
   "metadata": {
    "collapsed": false
   }
  },
  {
   "cell_type": "markdown",
   "source": [
    "### Proof Stress"
   ],
   "metadata": {
    "collapsed": false
   }
  },
  {
   "cell_type": "code",
   "execution_count": null,
   "outputs": [],
   "source": [
    "def reset_strain(di):\n",
    "    di.data['Strain'] = di.data['Strain'] / 100\n",
    "    di.info['E'] = di.info['E'] * 100\n",
    "    return di\n",
    "\n",
    "\n",
    "proof_ds = pam.find_proof_stress(screened_ds.apply(reset_strain))"
   ],
   "metadata": {
    "collapsed": false
   }
  },
  {
   "cell_type": "code",
   "execution_count": null,
   "outputs": [],
   "source": [
    "proof_ds.write_output('info/02 processed info.xlsx', 'data/02 processed data')\n",
    "processed_ds = DataSet('info/02 processed info.xlsx', 'data/02 processed data')"
   ],
   "metadata": {
    "collapsed": false
   }
  },
  {
   "cell_type": "markdown",
   "source": [
    "### Representative curves"
   ],
   "metadata": {
    "collapsed": false
   }
  },
  {
   "cell_type": "code",
   "execution_count": null,
   "outputs": [],
   "source": [
    "pam.make_representative_data(processed_ds, 'info/03 repres info.xlsx', 'data/03 repres data',\n",
    "                             repres_col='Stress_MPa', group_by_keys=['lot', 'temperature', 'test_type'],\n",
    "                             interp_by='Strain', group_info_cols=['E', 'PS_0.002_1', 'UTS_1', 'UTS_0', 'FP_0', 'UPL_1'])\n",
    "repres_ds = DataSet('info/03 repres info.xlsx', 'data/03 repres data', test_id_key='repres_id')\n",
    "ds_subplots(repres_ds, fill_between=('min_Stress_MPa', 'max_Stress_MPa'));"
   ],
   "metadata": {
    "collapsed": false
   }
  },
  {
   "cell_type": "markdown",
   "source": [
    "### Mechanical properties"
   ],
   "metadata": {
    "collapsed": false
   }
  },
  {
   "cell_type": "code",
   "execution_count": null,
   "outputs": [],
   "source": [
    "table = pam.make_representative_info(processed_ds, group_by_keys=['temperature', 'test_type'],\n",
    "                                     group_info_cols=['E', 'PS_0.002_1', 'UTS_1', 'UTS_0', 'FP_0', 'UPL_1'])\n",
    "# wrape every entry in \"\\color{red}{}\"\n",
    "table[['temperature', 'nr averaged', 'E', 'PS_0.002_1', 'UTS_1', 'UTS_0', 'FP_0', 'std_PS_0.002_1', 'std_UTS_1',\n",
    "       'std_UTS_0', 'std_FP_0']].style.hide(axis='index').format('{:.3g}').to_latex('info/04 mechanical properties.tex')"
   ],
   "metadata": {
    "collapsed": false
   }
  },
  {
   "cell_type": "markdown",
   "source": [
    "### Fitted curves"
   ],
   "metadata": {
    "collapsed": false
   }
  },
  {
   "cell_type": "code",
   "execution_count": null,
   "outputs": [],
   "source": [
    "ramberg_ms = ModelSet(ramberg, param_names=['C', 'n'], var_names=['E', 'UPL_1'],\n",
    "                      bounds=[(0., 1000.), (0.01, 0.8)], scipy_func='minimize')\n",
    "\n",
    "ramberg_ms.fit_to(repres_ds, 'Strain', 'Stress_MPa', sample_size=40)"
   ],
   "metadata": {
    "collapsed": false
   }
  },
  {
   "cell_type": "code",
   "execution_count": null,
   "outputs": [],
   "source": [
    "ramberg_ds = ramberg_ms.predict()\n",
    "ds_subplots(ramberg_ds);"
   ],
   "metadata": {
    "collapsed": false
   }
  },
  {
   "cell_type": "markdown",
   "source": [
    "### Fitting results"
   ],
   "metadata": {
    "collapsed": false
   }
  },
  {
   "cell_type": "code",
   "execution_count": null,
   "outputs": [],
   "source": [
    "ramberg_ds.info_table"
   ],
   "metadata": {
    "collapsed": false
   }
  },
  {
   "cell_type": "code",
   "execution_count": null,
   "outputs": [],
   "source": [
    "table = pam.make_representative_info(ramberg_ds, group_by_keys=['temperature', 'test_type'],\n",
    "                                     group_info_cols=['E', 'UPL_1', 'C', 'n', 'error'])\n",
    "table[['temperature', 'nr averaged', 'E', 'UPL_1', 'C', 'n', 'error']].style.hide(axis='index').format(\n",
    "    '{:.3g}').to_latex('info/05 fitting results.tex')"
   ],
   "metadata": {
    "collapsed": false
   }
  }
 ],
 "metadata": {
  "kernelspec": {
   "display_name": "Python 3 (ipykernel)",
   "language": "python",
   "name": "python3"
  },
  "language_info": {
   "codemirror_mode": {
    "name": "ipython",
    "version": 3
   },
   "file_extension": ".py",
   "mimetype": "text/x-python",
   "name": "python",
   "nbconvert_exporter": "python",
   "pygments_lexer": "ipython3",
   "version": "3.10.9"
  }
 },
 "nbformat": 4,
 "nbformat_minor": 1
}
