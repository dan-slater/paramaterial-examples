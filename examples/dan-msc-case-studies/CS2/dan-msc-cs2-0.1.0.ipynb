{
 "cells": [
  {
   "cell_type": "markdown",
   "metadata": {},
   "source": [
    "# CS2 Processing Report"
   ]
  },
  {
   "cell_type": "markdown",
   "metadata": {},
   "source": [
    "Package versions."
   ]
  },
  {
   "cell_type": "code",
   "execution_count": null,
   "metadata": {},
   "outputs": [],
   "source": [
    "import paramaterial as pam\n",
    "from paramaterial import DataSet, DataItem, ModelSet\n",
    "from paramaterial.models import ramberg\n",
    "import os\n",
    "import pandas as pd\n",
    "import seaborn as sns\n",
    "import matplotlib as mpl\n",
    "from matplotlib import pyplot as plt\n",
    "\n",
    "print(pam.__version__)\n",
    "print(pd.__version__)\n",
    "print(sns.__version__)\n",
    "print(mpl.__version__)"
   ]
  },
  {
   "cell_type": "markdown",
   "metadata": {},
   "source": [
    "Extract info from the filenames and make the info table."
   ]
  },
  {
   "cell_type": "code",
   "execution_count": null,
   "metadata": {},
   "outputs": [],
   "source": [
    "info_lists = [[filename] + filename.split('_')[:4] for filename in os.listdir('data/01 raw data')]\n",
    "info_table = pd.DataFrame(info_lists,\n",
    "                          columns=['old_filename', 'test_type', 'temperature', 'lot', 'number']\n",
    "                          ).sort_values(by='test_type', ascending=False)"
   ]
  },
  {
   "cell_type": "markdown",
   "metadata": {},
   "source": [
    "Add a unique test ID column."
   ]
  },
  {
   "cell_type": "code",
   "execution_count": null,
   "metadata": {},
   "outputs": [],
   "source": [
    "info_table['test_id'] = [f'test_ID_{i + 1:03d}' for i in range(len(info_table))]\n",
    "info_table = info_table.set_index('test_id').reset_index()  # move the test_id column to the far left"
   ]
  },
  {
   "cell_type": "markdown",
   "metadata": {},
   "source": [
    "Rename test types and get subset of lots."
   ]
  },
  {
   "cell_type": "code",
   "execution_count": null,
   "metadata": {},
   "outputs": [],
   "source": [
    "info_table['test_type'] = info_table['test_type'].replace('T', 'UT')\n",
    "info_table['test_type'] = info_table['test_type'].replace('P', 'PST')\n",
    "info_table = info_table[info_table['lot'].isin(list('FGHI'))]"
   ]
  },
  {
   "cell_type": "markdown",
   "metadata": {},
   "source": [
    "Add the information from the paper, and convert the temperatures to numbers."
   ]
  },
  {
   "cell_type": "code",
   "execution_count": null,
   "metadata": {},
   "outputs": [],
   "source": [
    "info_table['rate'] = 8.66e-4  # units (/s)\n",
    "info_table['temperature'] = pd.to_numeric(info_table['temperature'])\n",
    "info_table = info_table[info_table['temperature'] != 100]  #??"
   ]
  },
  {
   "cell_type": "markdown",
   "metadata": {},
   "source": [
    "### Format the data files.\n",
    "In this example, the files are already in .csv format. We just check that the column headers are the same and that there are no duplicates, then rename the files by test id."
   ]
  },
  {
   "cell_type": "markdown",
   "metadata": {},
   "source": [
    "Check column headers, uniqueness."
   ]
  },
  {
   "cell_type": "code",
   "execution_count": null,
   "metadata": {},
   "outputs": [],
   "source": [
    "pam.preparing.check_column_headers('data/01 raw data')\n",
    "pam.preparing.check_for_duplicate_files('data/01 raw data')"
   ]
  },
  {
   "cell_type": "markdown",
   "metadata": {},
   "source": [
    "Write the prepared data and rename the files by test id. Also write the prepared info table."
   ]
  },
  {
   "cell_type": "code",
   "execution_count": null,
   "metadata": {},
   "outputs": [],
   "source": [
    "pam.preparing.copy_data_and_rename_by_test_id(data_in='data/01 raw data', data_out='data/01 prepared data',\n",
    "                                              info_table=info_table)\n",
    "info_table.to_excel('info/01 prepared info.xlsx', index=False)"
   ]
  },
  {
   "cell_type": "code",
   "execution_count": null,
   "metadata": {},
   "outputs": [],
   "source": [
    "def make_strain_percent(di):\n",
    "    di.data['Strain'] = di.data['Strain']*100\n",
    "    return di\n",
    "\n",
    "\n",
    "prepared_ds = DataSet('info/01 prepared info.xlsx', 'data/01 prepared data').sort_by(\n",
    "    ['test_type', 'temperature', 'lot']).apply(make_strain_percent)"
   ]
  },
  {
   "cell_type": "markdown",
   "metadata": {},
   "source": [
    "### Make the experimental matrix\n",
    "The tests can be grouped by lot and temperature, with up to 3 repeated tests."
   ]
  },
  {
   "cell_type": "code",
   "execution_count": null,
   "outputs": [],
   "source": [
    "gold_cmap = mpl.colors.LinearSegmentedColormap.from_list(\"\", [\"white\", (85/255, 49/255, 0)])\n",
    "mpl.rcParams[\"axes.facecolor\"] = gold_cmap(0.1)"
   ],
   "metadata": {
    "collapsed": false
   }
  },
  {
   "cell_type": "code",
   "execution_count": null,
   "metadata": {},
   "outputs": [],
   "source": [
    "fig, (ut_ax, pst_ax) = plt.subplots(1, 2, figsize=(3.8, 1.8))\n",
    "\n",
    "pam.experimental_matrix(prepared_ds.subset({'test_type': 'UT'}).info_table, cmap=gold_cmap, ax=ut_ax, vmin=0, vmax=6,\n",
    "                        index='temperature', columns='lot', as_heatmap=True, xlabel='Lot', ylabel='Temperature (°C)',\n",
    "                        title='Uniaxial')\n",
    "\n",
    "pam.experimental_matrix(prepared_ds.subset({'test_type': 'PST'}).info_table, cmap=gold_cmap, ax=pst_ax, vmin=0, vmax=6,\n",
    "                        index='temperature', columns='lot', as_heatmap=True, xlabel='Lot', ylabel='Temperature (°C)',\n",
    "                        title='Plane-Strain');"
   ]
  },
  {
   "cell_type": "markdown",
   "metadata": {},
   "source": [
    "### Visualise the prepared data.\n",
    "\n",
    "We could colour by lot or by temperature. Colouring by lot is useful to observe variation, colouring by temperature is useful to observe temperature variation."
   ]
  },
  {
   "cell_type": "code",
   "execution_count": null,
   "metadata": {},
   "outputs": [],
   "source": [
    "lot_styler = pam.Styler(color_by='lot', color_by_label='Lot', cmap='magma').style_to(prepared_ds)\n",
    "\n",
    "\n",
    "def ds_subplots(ds: DataSet, **kwargs):\n",
    "    temperatures = sorted(prepared_ds.info_table['temperature'].unique())\n",
    "    return pam.plotting.dataset_subplots(\n",
    "        ds=ds, x='Strain', y='Stress_MPa', xlabel='Strain', ylabel='Stress (MPa)',\n",
    "        styler=lot_styler.style_to(prepared_ds), plot_legend=False,\n",
    "        rows_by='test_type', row_vals=[['PST'], ['UT']], row_titles=['Plane-Strain', 'Uniaxial'],\n",
    "        figsize=(10, 3.5), shape=(2, 5), cols_by='temperature',\n",
    "        col_vals=[[T] for T in temperatures], col_titles=[f'{T}°C' for T in temperatures], **kwargs,\n",
    "        subplot_legend=False)\n",
    "\n",
    "\n",
    "ds_subplots(prepared_ds);"
   ]
  },
  {
   "cell_type": "markdown",
   "metadata": {},
   "source": [
    "### UTS, failure point"
   ]
  },
  {
   "cell_type": "code",
   "execution_count": null,
   "metadata": {},
   "outputs": [],
   "source": [
    "def find_uts(di: DataItem):\n",
    "    di.info['UTS_0'] = di.data['Strain'].iloc[di.data['Stress_MPa'].idxmax()]\n",
    "    di.info['UTS_1'] = di.data['Stress_MPa'].max()\n",
    "    return di\n",
    "\n",
    "\n",
    "def find_fracture(di: DataItem):\n",
    "    di.info['FP_0'] = di.data['Strain'].max()\n",
    "    return di\n",
    "\n",
    "\n",
    "props_ds = prepared_ds.apply(find_uts).apply(find_fracture)"
   ]
  },
  {
   "cell_type": "markdown",
   "metadata": {},
   "source": [
    "### Trimming"
   ]
  },
  {
   "cell_type": "code",
   "execution_count": null,
   "metadata": {},
   "outputs": [],
   "source": [
    "def trim_to_small_strain(di: DataItem):\n",
    "    di.data = di.data[di.data['Strain'] < 3]\n",
    "    return di\n",
    "\n",
    "\n",
    "trimmed_ds = props_ds.apply(trim_to_small_strain)\n",
    "ds_subplots(trimmed_ds);"
   ]
  },
  {
   "cell_type": "markdown",
   "metadata": {},
   "source": [
    "### Foot correction, Young's modulus"
   ]
  },
  {
   "cell_type": "code",
   "execution_count": null,
   "metadata": {},
   "outputs": [],
   "source": [
    "corrected_ds = pam.find_upl_and_lpl(trimmed_ds, preload=36, preload_key='Stress_MPa')\n",
    "corrected_ds = pam.correct_foot(corrected_ds)"
   ]
  },
  {
   "cell_type": "code",
   "execution_count": null,
   "metadata": {},
   "outputs": [],
   "source": [
    "corrected_ds.write_output('info/02 processed info.xlsx', 'data/02 processed data')\n",
    "processed_ds = DataSet('info/02 processed info.xlsx', 'data/02 processed data')"
   ]
  },
  {
   "cell_type": "markdown",
   "source": [
    "### Mechanical Properties"
   ],
   "metadata": {
    "collapsed": false
   }
  },
  {
   "cell_type": "code",
   "execution_count": null,
   "outputs": [],
   "source": [
    "table = pam.make_representative_info(ds=processed_ds, group_by_keys=['temperature', 'test_type'],\n",
    "                                     group_info_cols=['E', 'UPL_0', 'UPL_1', 'UTS_0', 'UTS_1', 'FP_0'])\n",
    "table = table[\n",
    "    ['temperature', 'test_type', 'nr averaged', 'E', 'UPL_0', 'UPL_1', 'UTS_0', 'UTS_1', 'FP_0', 'std_E', 'std_UPL_0', 'std_UPL_1',\n",
    "     'std_UTS_0', 'std_UTS_1', 'std_FP_0']].style.hide(axis='index').to_latex('info/04 properties.tex')"
   ],
   "metadata": {
    "collapsed": false
   }
  },
  {
   "cell_type": "markdown",
   "metadata": {},
   "source": [
    "### Fitted model curves"
   ]
  },
  {
   "cell_type": "code",
   "execution_count": null,
   "metadata": {},
   "outputs": [],
   "source": [
    "pam.make_representative_data(processed_ds, 'info/03 repres info.xlsx', 'data/03 repres data',\n",
    "                             repres_col='Stress_MPa', group_by_keys=['lot', 'temperature', 'test_type', 'rate'],\n",
    "                             interp_by='Strain', group_info_cols=['E', 'UPL_1'])\n",
    "repr_ds = DataSet('info/03 repres info.xlsx', 'data/03 repres data', test_id_key='repres_id')\n",
    "\n",
    "ramberg_ms = ModelSet(ramberg, param_names=['C', 'n'], var_names=['E', 'UPL_1'],\n",
    "                      bounds=[(0., 1000.), (0.1, 0.8)], scipy_func='minimize')\n",
    "\n",
    "ramberg_ms.fit_to(repr_ds, 'Strain', 'Stress_MPa', sample_size=40)\n",
    "ramberg_ds = ramberg_ms.predict(xmin=0, xmax=2.2)\n",
    "ds_subplots(ramberg_ds);"
   ]
  },
  {
   "cell_type": "markdown",
   "metadata": {},
   "source": [
    "### Fitting results"
   ]
  },
  {
   "cell_type": "code",
   "execution_count": null,
   "metadata": {},
   "outputs": [],
   "source": [
    "table = pam.make_representative_info(ramberg_ds, group_by_keys=['temperature', 'test_type'],\n",
    "                                     group_info_cols=['E', 'UPL_1', 'C', 'n', 'error'])\n",
    "table[['test_type', 'temperature', 'nr averaged', 'E', 'UPL_1', 'C', 'n',\n",
    "       'error']].style.hide(axis='index').to_latex('info/05 fitting results.tex')"
   ]
  }
 ],
 "metadata": {
  "kernelspec": {
   "display_name": "Python 3 (ipykernel)",
   "language": "python",
   "name": "python3"
  },
  "language_info": {
   "codemirror_mode": {
    "name": "ipython",
    "version": 3
   },
   "file_extension": ".py",
   "mimetype": "text/x-python",
   "name": "python",
   "nbconvert_exporter": "python",
   "pygments_lexer": "ipython3",
   "version": "3.10.9"
  }
 },
 "nbformat": 4,
 "nbformat_minor": 1
}
